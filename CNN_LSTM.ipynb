{
  "nbformat": 4,
  "nbformat_minor": 0,
  "metadata": {
    "colab": {
      "provenance": [],
      "machine_shape": "hm",
      "gpuType": "L4",
      "authorship_tag": "ABX9TyOccL1F5UH4VaeawI7h+2uO",
      "include_colab_link": true
    },
    "kernelspec": {
      "name": "python3",
      "display_name": "Python 3"
    },
    "language_info": {
      "name": "python"
    },
    "accelerator": "GPU"
  },
  "cells": [
    {
      "cell_type": "markdown",
      "metadata": {
        "id": "view-in-github",
        "colab_type": "text"
      },
      "source": [
        "<a href=\"https://colab.research.google.com/github/beyzaturku/Weather_Detection_Using_CNN/blob/main/CNN_LSTM.ipynb\" target=\"_parent\"><img src=\"https://colab.research.google.com/assets/colab-badge.svg\" alt=\"Open In Colab\"/></a>"
      ]
    },
    {
      "cell_type": "markdown",
      "source": [
        "# Google Colab ve Drive Bağlantısı\n"
      ],
      "metadata": {
        "id": "uFRts-iaNnvM"
      }
    },
    {
      "cell_type": "code",
      "execution_count": 1,
      "metadata": {
        "colab": {
          "base_uri": "https://localhost:8080/"
        },
        "id": "ofdYjjAhMDP9",
        "outputId": "2f2121a6-4a75-4b48-a23e-6d4507027fc3"
      },
      "outputs": [
        {
          "output_type": "stream",
          "name": "stdout",
          "text": [
            "Mounted at /content/drive\n"
          ]
        }
      ],
      "source": [
        "from google.colab import drive\n",
        "import os\n",
        "import glob\n",
        "drive.mount('/content/drive') #google drive ı bağlamak için"
      ]
    },
    {
      "cell_type": "markdown",
      "source": [
        "# Veri Ön İşleme\n",
        "\n",
        "\n",
        "*   Görüntülerin yeniden boyutlandırılması\n",
        "*   Verilerin eğitim ve test olarak ayrılması\n",
        "*   Verilerin normalleştirilmesi\n",
        "\n"
      ],
      "metadata": {
        "id": "Ug26j813N0mK"
      }
    },
    {
      "cell_type": "code",
      "source": [
        "import numpy as np\n",
        "import pandas as pd\n",
        "import tensorflow as tf\n",
        "import os\n",
        "import cv2\n",
        "import matplotlib.pyplot as plt\n",
        "from tensorflow.keras.models import Sequential\n",
        "from tensorflow.keras.layers import Conv2D, MaxPooling2D, Flatten, LSTM, Dense, TimeDistributed, Dropout\n",
        "from tensorflow.keras.preprocessing.image import ImageDataGenerator\n",
        "from sklearn.model_selection import train_test_split\n",
        "from google.colab import drive"
      ],
      "metadata": {
        "id": "z6GGKZlOO_i1"
      },
      "execution_count": 2,
      "outputs": []
    },
    {
      "cell_type": "code",
      "source": [
        "# Veri seti yolu\n",
        "image_folder = \"/content/drive/MyDrive/Weather_Detection/Multi_Class_Weather_Dataset\"\n",
        "img_size = (64,64) #Görüntünün yeniden boyutlandırıldığı boyut\n",
        "\n",
        "\n",
        "subfolders = ['Cloudy', 'Rain', 'Shine', 'Sunrise']\n",
        "label_map = {subfolder: idx for idx, subfolder in enumerate(subfolders)}\n",
        "\n",
        "# Görüntü ve etiketlerin listelenmesi için:\n",
        "images = []\n",
        "labels = []\n",
        "\n",
        "#Veri setini yüklemek için:\n",
        "def load_images_from_folder(folder):\n",
        "    images = []\n",
        "    labels = []\n",
        "    class_names = os.listdir(folder)\n",
        "    class_map = {class_name: idx for idx, class_name in enumerate(class_names)}\n",
        "\n",
        "    for class_name in class_names:\n",
        "        class_folder = os.path.join(folder, class_name)\n",
        "        if os.path.isdir(class_folder):\n",
        "            for img_name in os.listdir(class_folder):\n",
        "                img_path = os.path.join(class_folder, img_name)\n",
        "                img = cv2.imread(img_path)\n",
        "                if img is not None:\n",
        "                    img = cv2.resize(img, img_size)\n",
        "                    images.append(img)\n",
        "                    labels.append(class_map[class_name])\n",
        "\n",
        "    return np.array(images), np.array(labels), class_map\n",
        "\n",
        "  # Veriyi yükleyelim\n",
        "images, labels, class_map = load_images_from_folder(image_folder)\n",
        "images = images / 255.0  # Normalizasyon\n",
        "\n",
        "print(\"Veri yükleniyor...\")\n",
        "X, y, class_map = load_images_from_folder(image_folder)\n",
        "print(\"Toplam görüntü sayısı:\", X.shape[0])"
      ],
      "metadata": {
        "colab": {
          "base_uri": "https://localhost:8080/"
        },
        "id": "ZHvAX-f3OCxJ",
        "outputId": "67b421f5-d05a-45f0-fc1e-9ee5202dfad8"
      },
      "execution_count": 28,
      "outputs": [
        {
          "output_type": "stream",
          "name": "stdout",
          "text": [
            "Veri yükleniyor...\n",
            "Toplam görüntü sayısı: 1123\n"
          ]
        }
      ]
    },
    {
      "cell_type": "code",
      "source": [
        "seq_length = 1 #LSTM için ardışık görüntü sayısı\n",
        "\n",
        "# Görüntüleri zaman serisine çevirme\n",
        "def create_sequences(images, labels, seq_length):\n",
        "    X_seq, y_seq = [], []\n",
        "    for i in range(len(images) - seq_length):\n",
        "        X_seq.append(images[i:i + seq_length])  # 5 görüntü\n",
        "        y_seq.append(labels[i + seq_length - 1])  # Son görüntünün etiketi\n",
        "    return np.array(X_seq), np.array(y_seq)\n",
        "\n",
        "X_seq, y_seq = create_sequences(X, y, seq_length)\n",
        "print(\"Yeni giriş şekli:\", X_seq.shape)  # (örnek_sayısı, 5, 64, 64, 3)"
      ],
      "metadata": {
        "colab": {
          "base_uri": "https://localhost:8080/"
        },
        "id": "5Km2VGrPRpXn",
        "outputId": "7189d636-f8c1-4aa2-bd45-9522bbc4230d"
      },
      "execution_count": 36,
      "outputs": [
        {
          "output_type": "stream",
          "name": "stdout",
          "text": [
            "Yeni giriş şekli: (1122, 1, 64, 64, 3)\n"
          ]
        }
      ]
    },
    {
      "cell_type": "code",
      "source": [
        "# Veri setinin eğitim ve test olarak bölünmesi\n",
        "split = int(0.8 * len(X_seq))\n",
        "X_train, y_train = X_seq[:split], y_seq[:split]\n",
        "X_test, y_test = X_seq[split:], y_seq[split:]"
      ],
      "metadata": {
        "id": "8fZhsPsZPs2_"
      },
      "execution_count": 37,
      "outputs": []
    },
    {
      "cell_type": "code",
      "source": [
        "#CNN-LSTM Model Mimarisi\n",
        "\n",
        "from tensorflow.keras import Input\n",
        "\n",
        "def build_model():\n",
        "    model = Sequential([\n",
        "        Input(shape=(seq_length, 64, 64, 3)),\n",
        "        TimeDistributed(Conv2D(32, (3, 3), activation='relu')),\n",
        "        TimeDistributed(MaxPooling2D((2, 2))),\n",
        "        TimeDistributed(Conv2D(64, (3, 3), activation='relu')),\n",
        "        TimeDistributed(MaxPooling2D((2, 2))),\n",
        "        TimeDistributed(Flatten()),\n",
        "        LSTM(64, return_sequences=False),\n",
        "        Dense(64, activation='relu'),\n",
        "        Dropout(0.5),\n",
        "        Dense(len(class_map), activation='softmax')\n",
        "    ])\n",
        "\n",
        "    model.compile(optimizer='adam', loss='sparse_categorical_crossentropy', metrics=['accuracy'])\n",
        "    return model\n",
        "\n",
        "print(\"Model oluşturuluyor...\")\n",
        "model = build_model()"
      ],
      "metadata": {
        "colab": {
          "base_uri": "https://localhost:8080/"
        },
        "id": "go5HoOv-QPJI",
        "outputId": "fa351ec5-380e-4f47-8aa5-a0319fedb58d"
      },
      "execution_count": 38,
      "outputs": [
        {
          "output_type": "stream",
          "name": "stdout",
          "text": [
            "Model oluşturuluyor...\n"
          ]
        }
      ]
    },
    {
      "cell_type": "code",
      "source": [
        "#model.compile(optimizer='adam', loss='sparse_categorical_crossentropy', metrics=['accuracy'])"
      ],
      "metadata": {
        "id": "jPNM0OaVQWif"
      },
      "execution_count": 23,
      "outputs": []
    },
    {
      "cell_type": "code",
      "source": [
        "# Modeli eğitme\n",
        "print(\"Model eğitiliyor...\")\n",
        "history = model.fit(X_train, y_train, validation_data=(X_test, y_test), epochs=20, batch_size=32)"
      ],
      "metadata": {
        "colab": {
          "base_uri": "https://localhost:8080/"
        },
        "id": "warM4p8sQsl2",
        "outputId": "5460401e-c9a6-4152-e028-251cd28b8b70"
      },
      "execution_count": 39,
      "outputs": [
        {
          "output_type": "stream",
          "name": "stdout",
          "text": [
            "Model eğitiliyor...\n",
            "Epoch 1/20\n",
            "\u001b[1m29/29\u001b[0m \u001b[32m━━━━━━━━━━━━━━━━━━━━\u001b[0m\u001b[37m\u001b[0m \u001b[1m4s\u001b[0m 33ms/step - accuracy: 0.2635 - loss: 1.3834 - val_accuracy: 0.0000e+00 - val_loss: 2.3866\n",
            "Epoch 2/20\n",
            "\u001b[1m29/29\u001b[0m \u001b[32m━━━━━━━━━━━━━━━━━━━━\u001b[0m\u001b[37m\u001b[0m \u001b[1m0s\u001b[0m 10ms/step - accuracy: 0.3669 - loss: 1.3140 - val_accuracy: 0.0000e+00 - val_loss: 2.5374\n",
            "Epoch 3/20\n",
            "\u001b[1m29/29\u001b[0m \u001b[32m━━━━━━━━━━━━━━━━━━━━\u001b[0m\u001b[37m\u001b[0m \u001b[1m0s\u001b[0m 10ms/step - accuracy: 0.3506 - loss: 1.3253 - val_accuracy: 0.0000e+00 - val_loss: 2.3807\n",
            "Epoch 4/20\n",
            "\u001b[1m29/29\u001b[0m \u001b[32m━━━━━━━━━━━━━━━━━━━━\u001b[0m\u001b[37m\u001b[0m \u001b[1m0s\u001b[0m 10ms/step - accuracy: 0.3377 - loss: 1.3117 - val_accuracy: 0.0000e+00 - val_loss: 2.3460\n",
            "Epoch 5/20\n",
            "\u001b[1m29/29\u001b[0m \u001b[32m━━━━━━━━━━━━━━━━━━━━\u001b[0m\u001b[37m\u001b[0m \u001b[1m0s\u001b[0m 10ms/step - accuracy: 0.3585 - loss: 1.2883 - val_accuracy: 0.0000e+00 - val_loss: 2.4442\n",
            "Epoch 6/20\n",
            "\u001b[1m29/29\u001b[0m \u001b[32m━━━━━━━━━━━━━━━━━━━━\u001b[0m\u001b[37m\u001b[0m \u001b[1m0s\u001b[0m 10ms/step - accuracy: 0.3709 - loss: 1.2736 - val_accuracy: 0.0000e+00 - val_loss: 2.4795\n",
            "Epoch 7/20\n",
            "\u001b[1m29/29\u001b[0m \u001b[32m━━━━━━━━━━━━━━━━━━━━\u001b[0m\u001b[37m\u001b[0m \u001b[1m0s\u001b[0m 10ms/step - accuracy: 0.3671 - loss: 1.2815 - val_accuracy: 0.0000e+00 - val_loss: 2.4432\n",
            "Epoch 8/20\n",
            "\u001b[1m29/29\u001b[0m \u001b[32m━━━━━━━━━━━━━━━━━━━━\u001b[0m\u001b[37m\u001b[0m \u001b[1m0s\u001b[0m 10ms/step - accuracy: 0.3919 - loss: 1.2801 - val_accuracy: 0.0000e+00 - val_loss: 2.4299\n",
            "Epoch 9/20\n",
            "\u001b[1m29/29\u001b[0m \u001b[32m━━━━━━━━━━━━━━━━━━━━\u001b[0m\u001b[37m\u001b[0m \u001b[1m0s\u001b[0m 10ms/step - accuracy: 0.3881 - loss: 1.2808 - val_accuracy: 0.0000e+00 - val_loss: 2.4711\n",
            "Epoch 10/20\n",
            "\u001b[1m29/29\u001b[0m \u001b[32m━━━━━━━━━━━━━━━━━━━━\u001b[0m\u001b[37m\u001b[0m \u001b[1m0s\u001b[0m 10ms/step - accuracy: 0.4015 - loss: 1.2713 - val_accuracy: 0.0000e+00 - val_loss: 2.4635\n",
            "Epoch 11/20\n",
            "\u001b[1m29/29\u001b[0m \u001b[32m━━━━━━━━━━━━━━━━━━━━\u001b[0m\u001b[37m\u001b[0m \u001b[1m0s\u001b[0m 10ms/step - accuracy: 0.3849 - loss: 1.2628 - val_accuracy: 0.0000e+00 - val_loss: 2.4524\n",
            "Epoch 12/20\n",
            "\u001b[1m29/29\u001b[0m \u001b[32m━━━━━━━━━━━━━━━━━━━━\u001b[0m\u001b[37m\u001b[0m \u001b[1m0s\u001b[0m 10ms/step - accuracy: 0.3782 - loss: 1.2992 - val_accuracy: 0.0000e+00 - val_loss: 2.3929\n",
            "Epoch 13/20\n",
            "\u001b[1m29/29\u001b[0m \u001b[32m━━━━━━━━━━━━━━━━━━━━\u001b[0m\u001b[37m\u001b[0m \u001b[1m0s\u001b[0m 10ms/step - accuracy: 0.3938 - loss: 1.2913 - val_accuracy: 0.0000e+00 - val_loss: 2.4038\n",
            "Epoch 14/20\n",
            "\u001b[1m29/29\u001b[0m \u001b[32m━━━━━━━━━━━━━━━━━━━━\u001b[0m\u001b[37m\u001b[0m \u001b[1m0s\u001b[0m 10ms/step - accuracy: 0.3857 - loss: 1.2904 - val_accuracy: 0.0000e+00 - val_loss: 2.4384\n",
            "Epoch 15/20\n",
            "\u001b[1m29/29\u001b[0m \u001b[32m━━━━━━━━━━━━━━━━━━━━\u001b[0m\u001b[37m\u001b[0m \u001b[1m0s\u001b[0m 10ms/step - accuracy: 0.4104 - loss: 1.2726 - val_accuracy: 0.0000e+00 - val_loss: 2.4188\n",
            "Epoch 16/20\n",
            "\u001b[1m29/29\u001b[0m \u001b[32m━━━━━━━━━━━━━━━━━━━━\u001b[0m\u001b[37m\u001b[0m \u001b[1m0s\u001b[0m 10ms/step - accuracy: 0.4041 - loss: 1.2640 - val_accuracy: 0.0000e+00 - val_loss: 2.4393\n",
            "Epoch 17/20\n",
            "\u001b[1m29/29\u001b[0m \u001b[32m━━━━━━━━━━━━━━━━━━━━\u001b[0m\u001b[37m\u001b[0m \u001b[1m0s\u001b[0m 10ms/step - accuracy: 0.4099 - loss: 1.2761 - val_accuracy: 0.0000e+00 - val_loss: 2.4366\n",
            "Epoch 18/20\n",
            "\u001b[1m29/29\u001b[0m \u001b[32m━━━━━━━━━━━━━━━━━━━━\u001b[0m\u001b[37m\u001b[0m \u001b[1m0s\u001b[0m 10ms/step - accuracy: 0.3958 - loss: 1.2751 - val_accuracy: 0.0000e+00 - val_loss: 2.4490\n",
            "Epoch 19/20\n",
            "\u001b[1m29/29\u001b[0m \u001b[32m━━━━━━━━━━━━━━━━━━━━\u001b[0m\u001b[37m\u001b[0m \u001b[1m0s\u001b[0m 10ms/step - accuracy: 0.4062 - loss: 1.2585 - val_accuracy: 0.0000e+00 - val_loss: 2.4824\n",
            "Epoch 20/20\n",
            "\u001b[1m29/29\u001b[0m \u001b[32m━━━━━━━━━━━━━━━━━━━━\u001b[0m\u001b[37m\u001b[0m \u001b[1m0s\u001b[0m 10ms/step - accuracy: 0.4010 - loss: 1.2841 - val_accuracy: 0.0000e+00 - val_loss: 2.4327\n"
          ]
        }
      ]
    },
    {
      "cell_type": "code",
      "source": [
        "# Test doğruluğu\n",
        "test_loss, test_acc = model.evaluate(X_test, y_test)\n",
        "print(\"Test doğruluğu:\", test_acc)"
      ],
      "metadata": {
        "colab": {
          "base_uri": "https://localhost:8080/"
        },
        "id": "cwPa-zM_Qv7r",
        "outputId": "bf894b52-fb88-49b1-cbbf-b5016a68155b"
      },
      "execution_count": 40,
      "outputs": [
        {
          "output_type": "stream",
          "name": "stdout",
          "text": [
            "\u001b[1m8/8\u001b[0m \u001b[32m━━━━━━━━━━━━━━━━━━━━\u001b[0m\u001b[37m\u001b[0m \u001b[1m0s\u001b[0m 6ms/step - accuracy: 0.0000e+00 - loss: 2.4327 \n",
            "Test doğruluğu: 0.0\n"
          ]
        }
      ]
    },
    {
      "cell_type": "markdown",
      "source": [
        "# **Sonuç:** Veri seti LSTM' e uygun olmadığından dolayı başarısız olduğunu düşünüyorum."
      ],
      "metadata": {
        "id": "q88mscMATgx-"
      }
    },
    {
      "cell_type": "code",
      "source": [],
      "metadata": {
        "id": "D-6Q0RQcTNPF"
      },
      "execution_count": null,
      "outputs": []
    }
  ]
}